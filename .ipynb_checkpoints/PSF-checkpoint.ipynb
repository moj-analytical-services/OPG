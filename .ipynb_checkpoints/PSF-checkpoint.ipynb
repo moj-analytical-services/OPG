{
 "cells": [
  {
   "cell_type": "markdown",
   "id": "8dd84486-a2d3-4c76-a113-0123ffa1e6f5",
   "metadata": {},
   "source": [
    "# Pattern Sequence based Forecasting (PSF) algorithm\n",
    "Pattern Sequence Based Forecasting (PSF) takes univariate time series data as input and assist to forecast its future values. This algorithm forecasts the behavior of time series based on similarity of pattern sequences. Initially, clustering is done with the labeling of samples from database. The labels associated with samples are then used for forecasting the future behaviour of time series data.\n",
    "\n",
    "The Algorithm Pattern Sequence based Forecasting (PSF) was first proposed by Martinez Alvarez, et al., 2008 and then modified and suggested improvement by Martinez Alvarez, et al., 2011. The technical detailes are mentioned in referenced articles. PSF algorithm consists of various statistical operations like:\n",
    "\n",
    "- Data Normalization/ Denormalization\n",
    "- Calculation of optimum Window size (W)\n",
    "- Calculation of optimum cluster size (k)\n",
    "- Pattern Sequence based Forecasting\n",
    "- RMSE/MAE Calculation, etc.."
   ]
  },
  {
   "cell_type": "code",
   "execution_count": null,
   "id": "0dde9f0c-8c15-44e1-b071-9a700070e540",
   "metadata": {},
   "outputs": [],
   "source": [
    "import PSF_Py\n",
    "from .psf import Psf, psf_plot\n",
    "from .ts import get_ts\n",
    "from .dpsf import Dpsf, dpsf_plot\n",
    "from .plot import plot_psf\n",
    "# View Package Content\n",
    "#print(dir(PSF_Py))\n",
    "#print(dir(PSF_Py.Psf))\n",
    "#print(dir(PSF_Py.plot))\n",
    "#print(dir(PSF_Py.ts))\n",
    "#print(dir(PSF_Py.psf))\n",
    "#print(dir(PSF_Py.dpsf_plot))\n",
    "#print(dir(PSF_Py.dpsf))\n",
    "#print(dir(PSF_Py.Dpsf))\n",
    "#print(dir(PSF_Py._psf_predict))\n",
    "#print(dir(PSF_Py._other_functions))\n",
    "#help(psf_plot)\n",
    "#help(preds)\n",
    "#help(\"PSF_Py.psf.Psf.predict\")\n",
    "#help(PSF_Py.Dpsf)\n",
    "#help(PSF_Py.plot.plot_psf)\n",
    "\n",
    "PSF_Py.__file__\n",
    "\n",
    "import inspect\n",
    "import random\n",
    "print(inspect.getsource(PSF_Py))"
   ]
  },
  {
   "cell_type": "code",
   "execution_count": null,
   "id": "d61ddff2-a8ed-4737-9508-c938e87654bf",
   "metadata": {},
   "outputs": [],
   "source": [
    "from PSF_Py import get_ts, plot\n",
    "import pandas as pd\n",
    "\n",
    "ts = get_ts('nottem')\n",
    "\n",
    "# Creating PSF model for prediction.\n",
    "a = Psf(data = ts, cycle = 12)\n",
    "\n",
    "# Use predict to predict the values\n",
    "preds = a.predict(n_ahead = 12)\n",
    "\n",
    "# Print the model\n",
    "a.model_print()\n",
    "\n",
    "# Plot the time series\n",
    "psf_plot(preds, ts)"
   ]
  },
  {
   "cell_type": "code",
   "execution_count": null,
   "id": "e3c5e76a-5882-47fb-9e9b-05756a8875a7",
   "metadata": {},
   "outputs": [],
   "source": []
  }
 ],
 "metadata": {
  "kernelspec": {
   "display_name": "Python 3 (ipykernel)",
   "language": "python",
   "name": "python3"
  },
  "language_info": {
   "codemirror_mode": {
    "name": "ipython",
    "version": 3
   },
   "file_extension": ".py",
   "mimetype": "text/x-python",
   "name": "python",
   "nbconvert_exporter": "python",
   "pygments_lexer": "ipython3",
   "version": "3.9.6"
  }
 },
 "nbformat": 4,
 "nbformat_minor": 5
}

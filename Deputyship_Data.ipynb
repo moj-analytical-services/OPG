{
 "cells": [
  {
   "cell_type": "code",
   "execution_count": null,
   "id": "0988c4f7-bb04-4b74-9904-4ef1c6aa6b71",
   "metadata": {},
   "outputs": [],
   "source": [
    "# GitHub \n",
    "\n",
    "!git pull\n",
    "!git merge main origin/deputyship"
   ]
  }
 ],
 "metadata": {
  "kernelspec": {
   "display_name": "Python 3 (ipykernel)",
   "language": "python",
   "name": "python3"
  },
  "language_info": {
   "codemirror_mode": {
    "name": "ipython",
    "version": 3
   },
   "file_extension": ".py",
   "mimetype": "text/x-python",
   "name": "python",
   "nbconvert_exporter": "python",
   "pygments_lexer": "ipython3",
   "version": "3.9.6"
  }
 },
 "nbformat": 4,
 "nbformat_minor": 5
}
